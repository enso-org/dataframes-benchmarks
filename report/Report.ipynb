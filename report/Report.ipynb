{
 "cells": [
  {
   "cell_type": "code",
   "execution_count": null,
   "metadata": {},
   "outputs": [],
   "source": [
    "import pandas as pd\n",
    "from matplotlib import pyplot as plt\n",
    "import seaborn as sns"
   ]
  },
  {
   "cell_type": "markdown",
   "metadata": {},
   "source": [
    "# Comparing Python and Enso dataframe operations.\n",
    "\n",
    "This benchmark compares some basic dataframe operations - joining, filling missing values, filtering, mapping vectorized operations.\n",
    "\n",
    "## How it is measured\n",
    "\n",
    "It uses a very simple methodology - each pipeline is run 20 times and times for each operation of interest are reported.\n",
    "Thus it does *not* measure startup time (as this is not relevant for the comparison) and it does not check how warmup affects efficiency (so that it measures performance as it is right after starting).\n",
    "\n",
    "The benchmarks were run on a ThinkPad T480s (i7-8550U, 16GB RAM) connected to AC.\n",
    "\n",
    "## What is measured"
   ]
  },
  {
   "cell_type": "code",
   "execution_count": null,
   "metadata": {},
   "outputs": [],
   "source": [
    "citations = pd.read_csv(\"../data/Parking_Citations_in_FY_2018.csv\")\n",
    "meters = pd.read_csv(\"../data/LADOT_Metered_Parking_Inventory___Policies.csv\")"
   ]
  },
  {
   "cell_type": "code",
   "execution_count": null,
   "metadata": {},
   "outputs": [],
   "source": [
    "citations.shape"
   ]
  },
  {
   "cell_type": "code",
   "execution_count": null,
   "metadata": {},
   "outputs": [],
   "source": [
    "meters.shape"
   ]
  },
  {
   "cell_type": "code",
   "execution_count": null,
   "metadata": {},
   "outputs": [],
   "source": [
    "headers = [\n",
    "    \"loading\",\n",
    "    \"filter1\",\n",
    "    \"fill_na\",\n",
    "    \"joining\",\n",
    "    \"filter2\",\n",
    "    \"map_and_filter1\",\n",
    "    # \"map_and_filter2\",\n",
    "]"
   ]
  },
  {
   "cell_type": "code",
   "execution_count": null,
   "metadata": {},
   "outputs": [],
   "source": [
    "citations[\"Meter Id\"] = citations[\"Meter Id\"].fillna(\"\")\n",
    "citations.join(meters.set_index(\"SpaceID\"), on=\"Meter Id\", how=\"inner\").shape"
   ]
  },
  {
   "cell_type": "markdown",
   "metadata": {},
   "source": [
    "We use as input two files from Los Angeles Open Data\n",
    "\n",
    "- `Parking_Citations_in_FY_2018.csv` - 268MB file consisting of 2188975 rows and 18 columns,\n",
    "- `LADOT_Metered_Parking_Inventory___Policies.csv` - 3.5MB file consisting of 33989 rows and 18 columns.\n",
    "\n",
    "We measure the following operations, implemented using analogous constructs in Python and Enso:\n",
    "\n",
    "- `loading` - loading and parsing the two CSV files into DataFrames/Tables,\n",
    "- `filter1` - filtering citations whose `Meter Id` is null and returning their count,\n",
    "- `fill_na` - filling the missing `Meter Id` with empty strings,\n",
    "- `joining` - joining the two tables over a common index (`Meter Id` and `SpaceID`) where 341338 out of 2188975 citations have common indices with the second table,\n",
    "- `filter2` - filtering, in the result of the join, which `Meter Id` fields are not equal to an empty string and counting the results,\n",
    "- `map_and_filter1` - filling missing values in `BlockFace` by an empty string and then selecting from them such entries that end with string `BROADWAY` and counting the results."
   ]
  },
  {
   "cell_type": "markdown",
   "metadata": {},
   "source": [
    "## Results"
   ]
  },
  {
   "cell_type": "code",
   "execution_count": null,
   "metadata": {},
   "outputs": [],
   "source": [
    "enso_times = pd.read_csv(\"enso_times.csv\")\n",
    "python_times = pd.read_csv(\"python_times.csv\")"
   ]
  },
  {
   "cell_type": "code",
   "execution_count": null,
   "metadata": {},
   "outputs": [],
   "source": [
    "assert(set(enso_times.columns) == set(headers))"
   ]
  },
  {
   "cell_type": "code",
   "execution_count": null,
   "metadata": {},
   "outputs": [],
   "source": [
    "assert(set(python_times.columns) == set(headers))"
   ]
  },
  {
   "cell_type": "code",
   "execution_count": null,
   "metadata": {},
   "outputs": [],
   "source": [
    "assert((enso_times.columns == python_times.columns).all())"
   ]
  },
  {
   "cell_type": "code",
   "execution_count": null,
   "metadata": {},
   "outputs": [],
   "source": [
    "enso_times[\"language\"] = \"Enso\"\n",
    "python_times[\"language\"] = \"Python\""
   ]
  },
  {
   "cell_type": "code",
   "execution_count": null,
   "metadata": {},
   "outputs": [],
   "source": [
    "times = pd.concat([enso_times, python_times])"
   ]
  },
  {
   "cell_type": "code",
   "execution_count": null,
   "metadata": {},
   "outputs": [],
   "source": [
    "melted = times.melt(id_vars=[\"language\"], var_name=\"operation\", value_name=\"time\")"
   ]
  },
  {
   "cell_type": "code",
   "execution_count": null,
   "metadata": {},
   "outputs": [],
   "source": [
    "plt.figure(figsize=(8,6))\n",
    "sns.barplot(data=melted, y=\"operation\", x=\"time\", hue=\"language\")\n",
    "plt.xlabel(\"time [ms]\")\n",
    "plt.title(\"Average times for each operation in 20 runs\")\n",
    "plt.xticks(rotation=-45)\n",
    "plt.show()"
   ]
  },
  {
   "cell_type": "code",
   "execution_count": null,
   "metadata": {},
   "outputs": [],
   "source": [
    "for op in headers:\n",
    "    filtered = melted[melted[\"operation\"] == op]\n",
    "    sns.boxplot(data=filtered, x=\"language\", y=\"time\")\n",
    "    plt.title(f\"Distribution of {op} timings over 20 runs\")\n",
    "    plt.ylim(bottom=0)\n",
    "    plt.ylabel(\"time [ms]\")\n",
    "    plt.show()"
   ]
  },
  {
   "cell_type": "code",
   "execution_count": null,
   "metadata": {},
   "outputs": [],
   "source": [
    "multipliers = []\n",
    "for op in headers:\n",
    "    means = melted[melted[\"operation\"] == op].groupby([\"language\"]).mean()\n",
    "    enso_mean = means.loc[\"Enso\", \"time\"]\n",
    "    python_mean = means.loc[\"Python\", \"time\"]\n",
    "    if enso_mean < python_mean:\n",
    "        mult = 1\n",
    "    elif enso_mean < 2 * python_mean:\n",
    "        mult = 2\n",
    "    elif enso_mean < 3 * python_mean:\n",
    "        mult = 3\n",
    "    else:\n",
    "        mult = 5\n",
    "    \n",
    "    print(f\"{op} fits within {mult}x of Python\")    \n",
    "    \n",
    "    if mult > 1:\n",
    "        multipliers.append((op, mult))"
   ]
  },
  {
   "cell_type": "code",
   "execution_count": null,
   "metadata": {},
   "outputs": [],
   "source": [
    "multiplied_times = []\n",
    "for (op, multiplier) in multipliers:\n",
    "    multiplied = melted[(melted[\"language\"] == \"Python\") & (melted[\"operation\"] == op)].copy()\n",
    "    multiplied[\"time\"] = multiplied[\"time\"] * multiplier\n",
    "    multiplied[\"language\"] = f\"{multiplier}x Python\"\n",
    "    multiplied_times.append(multiplied)"
   ]
  },
  {
   "cell_type": "code",
   "execution_count": null,
   "metadata": {},
   "outputs": [],
   "source": [
    "plt.figure(figsize=(8,6))\n",
    "with2x = pd.concat([melted] + multiplied_times)\n",
    "sns.barplot(data=with2x, y=\"operation\", x=\"time\", hue=\"language\")\n",
    "plt.xlabel(\"time [ms]\")\n",
    "plt.title(\"Average times for each operation in 20 runs.\")\n",
    "plt.xticks(rotation=-45)\n",
    "plt.show()"
   ]
  },
  {
   "cell_type": "markdown",
   "metadata": {},
   "source": [
    "We can see that all operations are no more than 3x slower than their Python counterparts.\n",
    "\n",
    "In fact only `filter1` is running slightly longer than 2x times Python's runtime, other operations are strictly not slower than 2x Python's runtime. Moreover, `fill_na`, `filter2` and `map_and_filter1` are actually faster than their Python counterparts."
   ]
  }
 ],
 "metadata": {
  "kernelspec": {
   "display_name": "Python 3",
   "language": "python",
   "name": "python3"
  },
  "language_info": {
   "codemirror_mode": {
    "name": "ipython",
    "version": 3
   },
   "file_extension": ".py",
   "mimetype": "text/x-python",
   "name": "python",
   "nbconvert_exporter": "python",
   "pygments_lexer": "ipython3",
   "version": "3.6.9"
  }
 },
 "nbformat": 4,
 "nbformat_minor": 4
}
